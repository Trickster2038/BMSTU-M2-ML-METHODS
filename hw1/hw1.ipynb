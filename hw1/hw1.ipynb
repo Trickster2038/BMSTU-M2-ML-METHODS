{
 "cells": [
  {
   "cell_type": "markdown",
   "id": "c0872955",
   "metadata": {},
   "source": [
    "# ДОМАШНЕЕ ЗАДАНИЕ 1. Дескриптивный анализ данных\n",
    "\n",
    "Астахов С.В. ИУ6-22М"
   ]
  },
  {
   "cell_type": "code",
   "execution_count": 6,
   "id": "4435da76",
   "metadata": {},
   "outputs": [
    {
     "name": "stdout",
     "output_type": "stream",
     "text": [
      "Задача № 1, шаг 5 - вариант:  1\n",
      "Задача № 1, шаг 11 - вариант:  1\n",
      "задача № 2 - вариант:  1\n"
     ]
    }
   ],
   "source": [
    "surname = \"Астахов\"  # Ваша фамилия\n",
    "\n",
    "alp = 'абвгдеёжзийклмнопрстуфхцчшщъыьэюя'\n",
    "w = [1, 42, 21, 21, 34,  6, 44, 26, 18, 44, 38, 26, 14, 43,  4, 49, 45,\n",
    "        7, 42, 29,  4,  9, 36, 34, 31, 29,  5, 30,  4, 19, 28, 25, 33]\n",
    "\n",
    "d = dict(zip(alp, w))\n",
    "variant =  sum([d[el] for el in surname.lower()]) % 40 + 1\n",
    "\n",
    "print(\"Задача № 1, шаг 5 - вариант: \", variant % 5 + 1)\n",
    "print(\"Задача № 1, шаг 11 - вариант: \", variant % 2 + 1 )\n",
    "print(\"задача № 2 - вариант: \", variant % 4 + 1)"
   ]
  },
  {
   "cell_type": "code",
   "execution_count": 7,
   "id": "9c030c8f",
   "metadata": {},
   "outputs": [],
   "source": [
    "# импорт библиотек\n",
    "import matplotlib.pyplot as plt\n",
    "%matplotlib inline\n",
    "import pandas as pd"
   ]
  },
  {
   "cell_type": "code",
   "execution_count": null,
   "id": "be52ef8e",
   "metadata": {},
   "outputs": [],
   "source": []
  }
 ],
 "metadata": {
  "kernelspec": {
   "display_name": "Python 3 (ipykernel)",
   "language": "python",
   "name": "python3"
  },
  "language_info": {
   "codemirror_mode": {
    "name": "ipython",
    "version": 3
   },
   "file_extension": ".py",
   "mimetype": "text/x-python",
   "name": "python",
   "nbconvert_exporter": "python",
   "pygments_lexer": "ipython3",
   "version": "3.8.10"
  }
 },
 "nbformat": 4,
 "nbformat_minor": 5
}
